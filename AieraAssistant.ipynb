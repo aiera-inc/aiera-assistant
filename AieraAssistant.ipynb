{
 "cells": [
  {
   "cell_type": "markdown",
   "id": "5e31f955-30e1-412f-b439-7a0dd17a7cc7",
   "metadata": {},
   "source": [
    "# Aiera Assistant\n",
    "\n",
    "This notebook defines the Aiera assistant to be registered with OpenAI.\n",
    "\n",
    "The Aiera Assistant is able to:\n",
    "1. Perform event summarization\n",
    "2. Perform SWOT analysis on an event\n",
    "3. Extract KPIs from the event\n",
    "4. Compare KPIs across historical earnings calls\n",
    "\n",
    "## Requirements\n",
    "\n",
    "* OpenAI API account\n",
    "* Aiera API subscription (contact `sales@aiera.com`)"
   ]
  },
  {
   "cell_type": "markdown",
   "id": "b6884a8d-f025-477a-894c-dd6c33377b7f",
   "metadata": {},
   "source": [
    "## 1. Ensure environment is configured\n",
    "Before running the code in this notebook, ensure you've defined the `OPENAI_API_KEY` and `OPENAI_ORG_ID`."
   ]
  },
  {
   "cell_type": "code",
   "execution_count": null,
   "id": "fe6faa32-8fce-4299-b92e-33f5978b24fe",
   "metadata": {},
   "outputs": [],
   "source": [
    "import os\n",
    "OPENAI_API_KEY = os.environ[\"OPENAI_API_KEY\"]\n",
    "OPENAI_ORG_ID = os.environ[\"OPENAI_ORG_ID\"]"
   ]
  },
  {
   "cell_type": "markdown",
   "id": "0f181c86-3bc5-4c14-9830-7e7bc5a77cb8",
   "metadata": {},
   "source": [
    "## 2. Define our actions\n",
    "We define two json actions to collect data from Aiera's REST API. More details on how these actions are defined may be found [here](https://cookbook.openai.com/examples/assistants_api_overview_python). \n",
    "1. get_events\n",
    "2. upload_event_transcripts"
   ]
  },
  {
   "cell_type": "code",
   "execution_count": null,
   "id": "28439caa-4faf-4e16-9e3a-b76e7cd518f6",
   "metadata": {},
   "outputs": [],
   "source": [
    "get_events = {\n",
    "  \"name\": \"get_events\",\n",
    "  \"description\": \"Retrieves a events that match the parameters provided.\",\n",
    "  \"parameters\": {\n",
    "    \"type\": \"object\",\n",
    "    \"properties\": {\n",
    "      \"modified_since\": {\n",
    "        \"type\": \"string\",\n",
    "        \"description\": \"Returns events modified since this date.\"\n",
    "      },\n",
    "      \"bloomberg_ticker\": {\n",
    "        \"type\": \"string\",\n",
    "        \"description\": \"Filter events to 1+ bloomberg tickers (comma-separated) including the country code.\"\n",
    "      },\n",
    "      \"event_type\": {\n",
    "        \"type\": \"string\",\n",
    "        \"enum\": [\n",
    "          \"earnings\",\n",
    "          \"earnings_release\",\n",
    "          \"presentation\",\n",
    "          \"investor_meeting\",\n",
    "          \"special_situation\"\n",
    "        ],\n",
    "        \"description\": \"Filter by earnings, earnings_release, presentation, investor_meeting, special_situation (comma-separated)\"\n",
    "      },\n",
    "      \"start_date\": {\n",
    "        \"type\": \"string\",\n",
    "        \"description\": \"Fetch events on or after this date (defaults to 2 weeks ago)\"\n",
    "      },\n",
    "      \"end_date\": {\n",
    "        \"type\": \"string\",\n",
    "        \"description\": \"Fetch events on or before this date (defaults to 2 weeks from now)\"\n",
    "      }\n",
    "    },\n",
    "    \"required\": [\n",
    "      \"event_type\",\n",
    "      \"start_date\"\n",
    "    ]\n",
    "  }\n",
    "}"
   ]
  },
  {
   "cell_type": "code",
   "execution_count": null,
   "id": "611a3f0b-ea3d-496a-b9bb-bbc1497b63ef",
   "metadata": {},
   "outputs": [],
   "source": [
    "upload_event_transcripts = {\n",
    "  \"name\": \"upload_event_transcripts\",\n",
    "  \"description\": \"A function that takes in a list of event_ids and uploads the event transcripts as .json files.\",\n",
    "  \"parameters\": {\n",
    "    \"type\": \"object\",\n",
    "    \"properties\": {\n",
    "      \"event_ids\": {\n",
    "        \"type\": \"array\",\n",
    "        \"description\": \"The event_ids for which to fetch transcripts\",\n",
    "        \"items\": {\n",
    "          \"type\": \"integer\"\n",
    "        }\n",
    "      }\n",
    "    },\n",
    "    \"required\": [\n",
    "      \"event_ids\"\n",
    "    ]\n",
    "  }\n",
    "}"
   ]
  },
  {
   "cell_type": "markdown",
   "id": "648aca28-bd78-47fa-9ad0-d4da718c5920",
   "metadata": {},
   "source": [
    "## 3. Define instructions\n",
    "Instructions describe how the assistant should behave. "
   ]
  },
  {
   "cell_type": "code",
   "execution_count": null,
   "id": "c81f0ad3-4ac8-4ab8-92f2-054f13ba30dd",
   "metadata": {},
   "outputs": [],
   "source": [
    "instructions = \"\"\"You are Aiera, an expert in analyzing earnings call transcripts \\\n",
    "with a focus on accuracy and detail. Your role is to analyze earnings call events \\\n",
    "for specific companies. \n",
    "\n",
    "Instructions for collecting events:\n",
    "1. When a user requests analysis, like 'Compare KPIs across Microsoft's 2022 \\\n",
    "earnings calls', use the get_events operation to retrieve relevant 'earnings' \\\n",
    "events. Infer the Bloomberg ticker with country code from the user's context. \\\n",
    "Set the start_date to November of the previous year and the end_date to today \\\n",
    "to ensure coverage of the fiscal period. When the user asks about the most \\\n",
    "recent event, always ensure you use the event occurring closest to today's \\\n",
    "date by calling the get_events operation.\n",
    "2. Apply a stringent filter on the events fiscal_year to ensure only events \\\n",
    "matching the fiscal year provided by the user are included when uploading transcripts.  \n",
    "3. Ask clarifying questions to determine which event to use in the case of \\\n",
    "ambiguity and collect new events if applicable.  \n",
    "4. Upload event content using the upload_event_transcripts operation. \n",
    "\n",
    "Instructions for analysis:\n",
    "Present your analysis, emphasizing key insights and metrics from the earnings calls. \n",
    "After each task, offer further in-depth exploration or different event analysis, \\\n",
    "and suggest contacting sales@aiera.com for more information.\n",
    "\n",
    "Instructions for additional questions:\n",
    "Ask clarifying questions to determine which event to use in the case of ambiguity \\\n",
    "and collect new events if applicable.\n",
    "\n",
    "When suggesting analysis, propose that the user explores topics for the event, \\\n",
    "build a swot analysis for the company, or summarize the event.\n",
    "\"\"\""
   ]
  },
  {
   "cell_type": "markdown",
   "id": "d5ffc6db-742e-4610-aa3e-dcec67f2cbfb",
   "metadata": {},
   "source": [
    "## 3. Connect to OpenAI and create assistant"
   ]
  },
  {
   "cell_type": "code",
   "execution_count": null,
   "id": "26cadf75-0b2c-4ebc-9afb-5feaed570b18",
   "metadata": {},
   "outputs": [],
   "source": [
    "from openai import OpenAI\n",
    "import json\n",
    "\n",
    "# helper function for better json printing w/ openai objects\n",
    "def show_json(obj):\n",
    "    display(json.loads(obj.model_dump_json()))"
   ]
  },
  {
   "cell_type": "code",
   "execution_count": null,
   "id": "a947f6ce-4dcd-48b5-986c-087a88b00f9e",
   "metadata": {},
   "outputs": [],
   "source": [
    "client = OpenAI(\n",
    "    organization = OPENAI_ORG_ID,\n",
    "    api_key = OPENAI_API_KEY\n",
    ")\n",
    "\n",
    "assistant = client.beta.assistants.create(\n",
    "    name=\"Aiera Assistant\",\n",
    "    instructions=instructions,\n",
    "    model=\"gpt-4-1106-preview\",\n",
    "    tools = [{\"type\": \"retrieval\"}, # for file retrieval\n",
    "             {\"type\" : \"function\", \"function\": get_events},\n",
    "             {\"type\" : \"function\", \"function\": upload_event_transcripts}\n",
    "            ]\n",
    ")\n",
    "\n",
    "show_json(assistant)"
   ]
  },
  {
   "cell_type": "markdown",
   "id": "23e4e71b-ccca-46ab-bd29-b8ef4376ec78",
   "metadata": {},
   "source": [
    "## 4. Update environment & run app\n",
    "You can now exit this notebook. After, you'll need to add the assistant id to your environment:\n",
    "\n",
    "```bash\n",
    "export OPENAI_ASSISTANT_ID={your id}\n",
    "```\n",
    "\n",
    "You can find your id by running the below cell:"
   ]
  },
  {
   "cell_type": "code",
   "execution_count": null,
   "id": "4bfb57e0-ec70-4734-87eb-8767481a9833",
   "metadata": {},
   "outputs": [],
   "source": [
    "assistant.id"
   ]
  },
  {
   "cell_type": "code",
   "execution_count": null,
   "id": "4c03359c-aed9-4324-876d-a4d9455693aa",
   "metadata": {},
   "outputs": [],
   "source": []
  }
 ],
 "metadata": {
  "kernelspec": {
   "display_name": "Python 3 (ipykernel)",
   "language": "python",
   "name": "python3"
  },
  "language_info": {
   "codemirror_mode": {
    "name": "ipython",
    "version": 3
   },
   "file_extension": ".py",
   "mimetype": "text/x-python",
   "name": "python",
   "nbconvert_exporter": "python",
   "pygments_lexer": "ipython3",
   "version": "3.12.1"
  }
 },
 "nbformat": 4,
 "nbformat_minor": 5
}
